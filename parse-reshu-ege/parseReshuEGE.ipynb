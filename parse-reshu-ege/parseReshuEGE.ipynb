{
 "cells": [
  {
   "cell_type": "code",
   "execution_count": 1,
   "metadata": {},
   "outputs": [
    {
     "name": "stderr",
     "output_type": "stream",
     "text": [
      "C:\\Users\\User\\AppData\\Local\\Temp\\ipykernel_12144\\1251454757.py:2: DeprecationWarning: \n",
      "Pyarrow will become a required dependency of pandas in the next major release of pandas (pandas 3.0),\n",
      "(to allow more performant data types, such as the Arrow string type, and better interoperability with other libraries)\n",
      "but was not found to be installed on your system.\n",
      "If this would cause problems for you,\n",
      "please provide us feedback at https://github.com/pandas-dev/pandas/issues/54466\n",
      "        \n",
      "  import pandas as pd\n"
     ]
    }
   ],
   "source": [
    "import requests, re\n",
    "import pandas as pd\n",
    "\n",
    "from bs4 import BeautifulSoup\n",
    "from typing import Dict\n",
    "from time import sleep\n",
    "from tqdm import tqdm_notebook"
   ]
  },
  {
   "cell_type": "code",
   "execution_count": 2,
   "metadata": {},
   "outputs": [],
   "source": [
    "start_page = requests.get(\"https://rus-ege.sdamgia.ru/archive\", headers={'User-Agent': \"Mozilla/5.0 (Windows NT 10.0; Win64; x64) AppleWebKit/537.36 (KHTML, like Gecko) Chrome/111.0.0.0 Safari/537.36\"})"
   ]
  },
  {
   "cell_type": "code",
   "execution_count": 3,
   "metadata": {},
   "outputs": [],
   "source": [
    "BASE_ADDR = \"https://rus-ege.sdamgia.ru\""
   ]
  },
  {
   "cell_type": "code",
   "execution_count": 4,
   "metadata": {},
   "outputs": [
    {
     "data": {
      "text/plain": [
       "<Response [200]>"
      ]
     },
     "execution_count": 4,
     "metadata": {},
     "output_type": "execute_result"
    }
   ],
   "source": [
    "start_page"
   ]
  },
  {
   "cell_type": "code",
   "execution_count": 5,
   "metadata": {},
   "outputs": [],
   "source": [
    "soup = BeautifulSoup(start_page.text)"
   ]
  },
  {
   "cell_type": "code",
   "execution_count": 6,
   "metadata": {},
   "outputs": [],
   "source": [
    "variant_links = []"
   ]
  },
  {
   "cell_type": "code",
   "execution_count": 7,
   "metadata": {},
   "outputs": [],
   "source": [
    "for span in soup.findAll(\"span\", attrs={\"class\": \"our_test pinkmark\"}):\n",
    "    variant_links.append(span.findChild(\"a\").attrs[\"href\"])"
   ]
  },
  {
   "cell_type": "code",
   "execution_count": 8,
   "metadata": {},
   "outputs": [],
   "source": [
    "question = BeautifulSoup(requests.get(variant_links[0]).text).findChild(\"div\", attrs={\"class\": \"prob_num\"}, string=\"22\").findNext().find(\"div\", attrs={\"class\": \"pbody\"})"
   ]
  },
  {
   "cell_type": "code",
   "execution_count": 9,
   "metadata": {},
   "outputs": [
    {
     "data": {
      "text/plain": [
       "'(1)На задворках нашего села стояло на сваях длинное помещение из досок. (2)Я первый раз в жизни здесь услышал музыку  — скрипку. (3)На ней играл Вася-поляк. (4)О чём мне рассказывала музыка? (5)О чём-то очень большом. (6)На что же это жаловалась она, на кого гневалась? (7)Тревожно и горько мне. (8)Хочется заплакать, оттого что мне жалко самого себя, жалко тех, что спят непробудным сном на кладбище! (9)Вася, не переставая играть, говорил: «(10)Эту музыку написал человек, которого лишили самого дорогого. (11)Если у человека нет матери, нет отца, но есть родина, он ещё не сирота. (12)Всё проходит: любовь, сожаление о ней, горечь утрат, даже боль от ран,  — но никогда не проходит и не гаснет тоска по родине. (13)Эту музыку написал мой земляк Огинский. (14)Написал на границе, прощаясь с родиной. (15)Он посылал ей последний привет. (16)Давно уже нет композитора на свете, но боль его, тоска его, любовь к родной земле, которую никто не может отнять, жива до сих пор». (17)«Спасибо вам, дяденька»,  — прошептал я. (18)«За что, мальчик?»  — (19)«3а то, что я не сирота». (20)Восторженными слезами благодарил я Васю, этот мир ночной, спящее село, а также спящий за ним лес. (21)В эти минуты не было для меня зла. (22)Мир был добр и одинок так же, как я. (23)Во мне звучала музыка о неистребимой любви к родине! (24)Енисей, не спящий даже ночью, молчаливое село за моей спиной, кузнечик, из последних сил работающий наперекор осени в крапиве, отливающей металлом,  — это была моя родина. (25)...Прошло много лет. (26)И вот однажды в конце войны я стоял возле пушек в разрушенном польском городе. (27)Кругом пахло гарью, пылью. (28)И вдруг в доме, расположенном через улицу от меня, раздались звуки органа. (29)Эта музыка разбередила воспоминания. (30)Когда-то мне хотелось умереть от непонятной печали и восторга после того, как я послушал полонез Огинского. (31)Но теперь та же музыка, которую я слушал в детстве, преломилась во мне и закаменела, особенно та её часть, от которой я плакал когда-то. (32)Музыка так же, как и в ту далёкую ночь, хватала за горло, но не выжимала слёз, не прорастала жалостью. (33)Она звала куда-то, заставляла что-нибудь делать, чтобы потухли эти пожары, чтобы люди не ютились в горящих развалинах, чтобы небо не подбрасывало взрывами. (34)Музыка властвовала над оцепеневшим от горя городом, та самая музыка, которую, как вздох своей земли, хранил в сердце человек, никогда не видавший родины и всю жизнь тосковавший о ней.(По В. Астафьеву*) * Виктор Петрович Астафьев (1924—2001), выдающийся русский прозаик. Важнейшие темы творчества  — военная и деревенская.Источник текста: ЕГЭ 2013. Русский язык: тренировочные задания / И. П. Цыбулько, С. И. Львова  — М. : Эксмо, 2012.  — 136 стр. Вариант 6.'"
      ]
     },
     "execution_count": 9,
     "metadata": {},
     "output_type": "execute_result"
    }
   ],
   "source": [
    "BeautifulSoup(requests.get(variant_links[0]).text).findChild(\"div\", attrs={\"class\": \"prob_num\"}, string=\"22\").findNext().find(\"div\", attrs={\"class\": \"probtext\"}).text.replace(\"\\xad\", \"\").replace(\"\\xa0\", \" \").replace(\"\\u202f\", \" \")"
   ]
  },
  {
   "cell_type": "code",
   "execution_count": 10,
   "metadata": {},
   "outputs": [
    {
     "data": {
      "text/plain": [
       "'/problem?id=294'"
      ]
     },
     "execution_count": 10,
     "metadata": {},
     "output_type": "execute_result"
    }
   ],
   "source": [
    "BeautifulSoup(requests.get(variant_links[0]).text).findChild(\"div\", attrs={\"class\": \"prob_num\"}, string=\"22\").findNext().find(\"a\").attrs[\"href\"]"
   ]
  },
  {
   "cell_type": "code",
   "execution_count": 11,
   "metadata": {},
   "outputs": [
    {
     "name": "stdout",
     "output_type": "stream",
     "text": [
      "https://rus-ege.sdamgia.ru/problem?id=294\n"
     ]
    }
   ],
   "source": [
    "task_link = BeautifulSoup(requests.get(variant_links[0]).text).findChild(\"div\", attrs={\"class\": \"prob_num\"}, string=\"22\").findNext().find(\"a\").attrs[\"href\"]\n",
    "task_link = BASE_ADDR + task_link\n",
    "print(task_link)"
   ]
  },
  {
   "cell_type": "code",
   "execution_count": 12,
   "metadata": {},
   "outputs": [],
   "source": [
    "task_soup = BeautifulSoup(requests.get(task_link).text)\n",
    "qdata = task_soup.find(\"div\", attrs={\"class\": \"pbody\"})\n",
    "qlines = re.sub(\"<.*?>\", \"\\n\", str(qdata)).replace(\"\\xad\", \"\").replace(\"\\xa0\", \"\").replace(\"\\u202f\", \"\").strip().split('\\n')\n",
    "\n",
    "reading_text = task_soup.find(\"div\", attrs={\"class\": \"probtext\"}).text.replace(\"\\xad\", \"\").replace(\"\\xa0\", \" \").replace(\"\\u202f\", \" \")\n",
    "answer_text = task_soup.find(\"div\", attrs={\"class\": \"answer\"}).text\n",
    "datum = {\"qlines\": qlines, \"reading_text\": reading_text, \"answer_text\": answer_text}"
   ]
  },
  {
   "cell_type": "code",
   "execution_count": 13,
   "metadata": {},
   "outputs": [],
   "source": [
    "def get_data_from_variant(variant_link: str, task_id: int) -> Dict:\n",
    "    task_link = BeautifulSoup(requests.get(variant_link).text).findChild(\"div\", attrs={\"class\": \"prob_num\"}, string=str(task_id)).findNext().find(\"a\").attrs[\"href\"]\n",
    "    task_link = BASE_ADDR + task_link\n",
    "\n",
    "    task_soup = BeautifulSoup(requests.get(task_link).text)\n",
    "    qdata = task_soup.find(\"div\", attrs={\"class\": \"pbody\"})\n",
    "    qlines = re.sub(\"<.*?>\", \"\\n\", str(qdata)).replace(\"\\xad\", \"\").replace(\"\\xa0\", \"\").replace(\"\\u202f\", \"\").strip().split('\\n')\n",
    "\n",
    "    reading_text = task_soup.find(\"div\", attrs={\"class\": \"probtext\"}).text.replace(\"\\xad\", \"\").replace(\"\\xa0\", \" \").replace(\"\\u202f\", \" \")\n",
    "    answer_text = task_soup.find(\"div\", attrs={\"class\": \"answer\"}).text\n",
    "    datum = {\"qlines\": qlines, \"reading_text\": reading_text, \"answer_text\": answer_text}\n",
    "    \n",
    "    return datum"
   ]
  },
  {
   "cell_type": "code",
   "execution_count": 14,
   "metadata": {},
   "outputs": [
    {
     "name": "stderr",
     "output_type": "stream",
     "text": [
      "C:\\Users\\User\\AppData\\Local\\Temp\\ipykernel_12996\\2694031947.py:3: TqdmDeprecationWarning: This function will be removed in tqdm==5.0.0\n",
      "Please use `tqdm.notebook.tqdm` instead of `tqdm.tqdm_notebook`\n",
      "  for variant_link in tqdm_notebook(variant_links, total=len(variant_links)):\n"
     ]
    },
    {
     "data": {
      "application/vnd.jupyter.widget-view+json": {
       "model_id": "01bc8e813e724918b4a040050f2c4c3e",
       "version_major": 2,
       "version_minor": 0
      },
      "text/plain": [
       "  0%|          | 0/180 [00:00<?, ?it/s]"
      ]
     },
     "metadata": {},
     "output_type": "display_data"
    }
   ],
   "source": [
    "parsed_data = []\n",
    "\n",
    "for variant_link in tqdm_notebook(variant_links, total=len(variant_links)):\n",
    "    parsed_data.append(get_data_from_variant(variant_link, 22))\n",
    "    sleep(0.5)"
   ]
  },
  {
   "cell_type": "code",
   "execution_count": 15,
   "metadata": {},
   "outputs": [],
   "source": [
    "parsed_data_ = [\n",
    "    {\n",
    "        \"question\": \" \".join(item[\"qlines\"][:2]),\n",
    "        \"variants\": [\n",
    "            line for line in item[\"qlines\"] if line.startswith(\"1)\") or line.startswith(\"2)\") or line.startswith(\"3)\") or line.startswith(\"4)\") or line.startswith(\"5)\")\n",
    "        ],\n",
    "        \"reading_text\": item[\"reading_text\"],\n",
    "        \"right_answers\": [int(i) for i in list(item[\"answer_text\"].split()[1].split(\"|\")[0])]\n",
    "    } for item in parsed_data\n",
    "]"
   ]
  },
  {
   "cell_type": "code",
   "execution_count": 19,
   "metadata": {},
   "outputs": [],
   "source": [
    "parsed_data_ = pd.DataFrame(parsed_data_)"
   ]
  },
  {
   "cell_type": "code",
   "execution_count": 21,
   "metadata": {},
   "outputs": [
    {
     "data": {
      "text/plain": [
       "question\n",
       "Какие из высказываний соответствуют содержанию текста? Укажите номера ответов. Цифры укажите в порядке возрастания.                                                                                                     77\n",
       "Какие из высказываний соответствуют содержанию текста? Укажите номера ответов.                                                                                                                                          51\n",
       "Какие из высказываний соответствуют содержанию текста? Укажите номера ответов в возрастающем порядке.                                                                                                                   22\n",
       "Какие из высказываний  соответствуют                                                                                                                                                                                     6\n",
       "Какие из высказываний  не соответствуют                                                                                                                                                                                  6\n",
       "Задание 22 требует от учащегося умения проводить информационную обработку текста. Это задание, как и 1-е, проверяет способность учащихся улавливать логику развития мысли автора предъявленного для анализа текста.      3\n",
       "Какие из высказываний не соответствуют содержанию текста? Укажите номера ответов.                                                                                                                                        3\n",
       "Какие высказывания  противоречат                                                                                                                                                                                         3\n",
       "Какие высказывания  не соответствуют                                                                                                                                                                                     3\n",
       "Какие из высказываний  противоречат                                                                                                                                                                                      3\n",
       "Прочитайте предложения 19–29. Укажите номер предложения, после которого должен стоять следующий фрагмент.                                                                                                                3\n",
       "Name: count, dtype: int64"
      ]
     },
     "execution_count": 21,
     "metadata": {},
     "output_type": "execute_result"
    }
   ],
   "source": [
    "parsed_data_.question.value_counts()"
   ]
  },
  {
   "cell_type": "code",
   "execution_count": 23,
   "metadata": {},
   "outputs": [],
   "source": [
    "parsed_data_ = parsed_data_[parsed_data_.question.str.startswith(\"Какие из высказываний\")]"
   ]
  },
  {
   "cell_type": "code",
   "execution_count": 24,
   "metadata": {},
   "outputs": [
    {
     "data": {
      "text/plain": [
       "question\n",
       "Какие из высказываний соответствуют содержанию текста? Укажите номера ответов. Цифры укажите в порядке возрастания.    77\n",
       "Какие из высказываний соответствуют содержанию текста? Укажите номера ответов.                                         51\n",
       "Какие из высказываний соответствуют содержанию текста? Укажите номера ответов в возрастающем порядке.                  22\n",
       "Какие из высказываний  соответствуют                                                                                    6\n",
       "Какие из высказываний  не соответствуют                                                                                 6\n",
       "Какие из высказываний не соответствуют содержанию текста? Укажите номера ответов.                                       3\n",
       "Какие из высказываний  противоречат                                                                                     3\n",
       "Name: count, dtype: int64"
      ]
     },
     "execution_count": 24,
     "metadata": {},
     "output_type": "execute_result"
    }
   ],
   "source": [
    "parsed_data_.question.value_counts()"
   ]
  },
  {
   "cell_type": "code",
   "execution_count": 25,
   "metadata": {},
   "outputs": [
    {
     "data": {
      "text/html": [
       "<div>\n",
       "<style scoped>\n",
       "    .dataframe tbody tr th:only-of-type {\n",
       "        vertical-align: middle;\n",
       "    }\n",
       "\n",
       "    .dataframe tbody tr th {\n",
       "        vertical-align: top;\n",
       "    }\n",
       "\n",
       "    .dataframe thead th {\n",
       "        text-align: right;\n",
       "    }\n",
       "</style>\n",
       "<table border=\"1\" class=\"dataframe\">\n",
       "  <thead>\n",
       "    <tr style=\"text-align: right;\">\n",
       "      <th></th>\n",
       "      <th>question</th>\n",
       "      <th>variants</th>\n",
       "      <th>reading_text</th>\n",
       "      <th>right_answers</th>\n",
       "    </tr>\n",
       "  </thead>\n",
       "  <tbody>\n",
       "    <tr>\n",
       "      <th>0</th>\n",
       "      <td>Какие из высказываний соответствуют содержанию...</td>\n",
       "      <td>[1)Рассказчик был сиротой., 2)В детстве эта ме...</td>\n",
       "      <td>(1)На задворках нашего села стояло на сваях дл...</td>\n",
       "      <td>[1, 2, 3]</td>\n",
       "    </tr>\n",
       "    <tr>\n",
       "      <th>1</th>\n",
       "      <td>Какие из высказываний соответствуют содержанию...</td>\n",
       "      <td>[1)Собеседник рассказчика, Сокольский, сомнева...</td>\n",
       "      <td>(1)\\tМы ехали берегом Лены на юг, а зима догон...</td>\n",
       "      <td>[1, 2, 3]</td>\n",
       "    </tr>\n",
       "    <tr>\n",
       "      <th>2</th>\n",
       "      <td>Какие из высказываний соответствуют содержанию...</td>\n",
       "      <td>[1)Родион встретил девочку перед наступлением....</td>\n",
       "      <td>(1)Воспалённое состояние Поли, а главное, её с...</td>\n",
       "      <td>[2, 3]</td>\n",
       "    </tr>\n",
       "    <tr>\n",
       "      <th>3</th>\n",
       "      <td>Какие из высказываний соответствуют содержанию...</td>\n",
       "      <td>[1)Ребята сразу невзлюбили своего классного ру...</td>\n",
       "      <td>(1)Все мы любили «классного», хотя нельзя сказ...</td>\n",
       "      <td>[2, 3, 5]</td>\n",
       "    </tr>\n",
       "    <tr>\n",
       "      <th>4</th>\n",
       "      <td>Какие из высказываний соответствуют содержанию...</td>\n",
       "      <td>[1)Убежище, в котором укрывалась рассказчица, ...</td>\n",
       "      <td>(1)В суровые военные годы во время бомбёжки мо...</td>\n",
       "      <td>[1, 2, 3]</td>\n",
       "    </tr>\n",
       "    <tr>\n",
       "      <th>...</th>\n",
       "      <td>...</td>\n",
       "      <td>...</td>\n",
       "      <td>...</td>\n",
       "      <td>...</td>\n",
       "    </tr>\n",
       "    <tr>\n",
       "      <th>175</th>\n",
       "      <td>Какие из высказываний  соответствуют</td>\n",
       "      <td>[1)Уолтер Грипп когда-то считал Тимоти Саллива...</td>\n",
       "      <td>(1)На седьмой странице был некролог: «(2)Тимот...</td>\n",
       "      <td>[2, 4]</td>\n",
       "    </tr>\n",
       "    <tr>\n",
       "      <th>176</th>\n",
       "      <td>Какие из высказываний соответствуют содержанию...</td>\n",
       "      <td>[1)Студенты давно собирались сбить замок с Миш...</td>\n",
       "      <td>(1)Шла война, на которую мы, шестнадцатилетние...</td>\n",
       "      <td>[2, 4, 5]</td>\n",
       "    </tr>\n",
       "    <tr>\n",
       "      <th>177</th>\n",
       "      <td>Какие из высказываний соответствуют содержанию...</td>\n",
       "      <td>[1) Каждый раз, когда Архимед садился в ванну,...</td>\n",
       "      <td>(1)Однажды Архимед сел в ванну и вдруг почувст...</td>\n",
       "      <td>[3, 4]</td>\n",
       "    </tr>\n",
       "    <tr>\n",
       "      <th>178</th>\n",
       "      <td>Какие из высказываний соответствуют содержанию...</td>\n",
       "      <td>[1)По мнению рассказчика, англичане пренебрежи...</td>\n",
       "      <td>(1)В маленьком городишке Стратфорде на маленьк...</td>\n",
       "      <td>[4, 5]</td>\n",
       "    </tr>\n",
       "    <tr>\n",
       "      <th>179</th>\n",
       "      <td>Какие из высказываний соответствуют содержанию...</td>\n",
       "      <td>[1)Можно рисовать где угодно и чем угодно: ист...</td>\n",
       "      <td>(1)Художественное творчество, с моей точки зре...</td>\n",
       "      <td>[1, 3, 4]</td>\n",
       "    </tr>\n",
       "  </tbody>\n",
       "</table>\n",
       "<p>168 rows × 4 columns</p>\n",
       "</div>"
      ],
      "text/plain": [
       "                                              question  \\\n",
       "0    Какие из высказываний соответствуют содержанию...   \n",
       "1    Какие из высказываний соответствуют содержанию...   \n",
       "2    Какие из высказываний соответствуют содержанию...   \n",
       "3    Какие из высказываний соответствуют содержанию...   \n",
       "4    Какие из высказываний соответствуют содержанию...   \n",
       "..                                                 ...   \n",
       "175               Какие из высказываний  соответствуют   \n",
       "176  Какие из высказываний соответствуют содержанию...   \n",
       "177  Какие из высказываний соответствуют содержанию...   \n",
       "178  Какие из высказываний соответствуют содержанию...   \n",
       "179  Какие из высказываний соответствуют содержанию...   \n",
       "\n",
       "                                              variants  \\\n",
       "0    [1)Рассказчик был сиротой., 2)В детстве эта ме...   \n",
       "1    [1)Собеседник рассказчика, Сокольский, сомнева...   \n",
       "2    [1)Родион встретил девочку перед наступлением....   \n",
       "3    [1)Ребята сразу невзлюбили своего классного ру...   \n",
       "4    [1)Убежище, в котором укрывалась рассказчица, ...   \n",
       "..                                                 ...   \n",
       "175  [1)Уолтер Грипп когда-то считал Тимоти Саллива...   \n",
       "176  [1)Студенты давно собирались сбить замок с Миш...   \n",
       "177  [1) Каждый раз, когда Архимед садился в ванну,...   \n",
       "178  [1)По мнению рассказчика, англичане пренебрежи...   \n",
       "179  [1)Можно рисовать где угодно и чем угодно: ист...   \n",
       "\n",
       "                                          reading_text right_answers  \n",
       "0    (1)На задворках нашего села стояло на сваях дл...     [1, 2, 3]  \n",
       "1    (1)\\tМы ехали берегом Лены на юг, а зима догон...     [1, 2, 3]  \n",
       "2    (1)Воспалённое состояние Поли, а главное, её с...        [2, 3]  \n",
       "3    (1)Все мы любили «классного», хотя нельзя сказ...     [2, 3, 5]  \n",
       "4    (1)В суровые военные годы во время бомбёжки мо...     [1, 2, 3]  \n",
       "..                                                 ...           ...  \n",
       "175  (1)На седьмой странице был некролог: «(2)Тимот...        [2, 4]  \n",
       "176  (1)Шла война, на которую мы, шестнадцатилетние...     [2, 4, 5]  \n",
       "177  (1)Однажды Архимед сел в ванну и вдруг почувст...        [3, 4]  \n",
       "178  (1)В маленьком городишке Стратфорде на маленьк...        [4, 5]  \n",
       "179  (1)Художественное творчество, с моей точки зре...     [1, 3, 4]  \n",
       "\n",
       "[168 rows x 4 columns]"
      ]
     },
     "execution_count": 25,
     "metadata": {},
     "output_type": "execute_result"
    }
   ],
   "source": [
    "parsed_data_"
   ]
  },
  {
   "cell_type": "code",
   "execution_count": 27,
   "metadata": {},
   "outputs": [],
   "source": [
    "parsed_data_.to_csv(\"parsed_data.csv\", sep=\";\")"
   ]
  }
 ],
 "metadata": {
  "interpreter": {
   "hash": "76ad95f14593b0a2fc24d0a09d92258fca1e0075874122d58dd1bae94a601e54"
  },
  "kernelspec": {
   "display_name": "Python 3.11.8 64-bit",
   "language": "python",
   "name": "python3"
  },
  "language_info": {
   "codemirror_mode": {
    "name": "ipython",
    "version": 3
   },
   "file_extension": ".py",
   "mimetype": "text/x-python",
   "name": "python",
   "nbconvert_exporter": "python",
   "pygments_lexer": "ipython3",
   "version": "3.11.8"
  },
  "orig_nbformat": 4
 },
 "nbformat": 4,
 "nbformat_minor": 2
}
